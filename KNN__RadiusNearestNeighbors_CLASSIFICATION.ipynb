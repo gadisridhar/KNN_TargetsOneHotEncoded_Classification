{
 "cells": [
  {
   "cell_type": "markdown",
   "id": "9e8dd2ef-1fd2-4a51-9387-a055fa4ffc60",
   "metadata": {},
   "source": [
    "For Binary Classification"
   ]
  },
  {
   "cell_type": "code",
   "execution_count": 213,
   "id": "97018f8e-86f6-4757-98c6-19b42c0562d9",
   "metadata": {},
   "outputs": [],
   "source": [
    "############################ For regression: f_regression, mutual_info_regression\n",
    "############################ For classification: chi2, f_classif, mutual_info_classif\n",
    "from sklearn.neighbors import NearestNeighbors,KNeighborsClassifier, KNeighborsRegressor, RadiusNeighborsClassifier\n",
    "from sklearn.preprocessing import StandardScaler\n",
    "from sklearn.metrics import r2_score, confusion_matrix, accuracy_score, classification_report, mean_squared_error\n",
    "from sklearn.preprocessing import OneHotEncoder, LabelEncoder\n",
    "from sklearn.compose import ColumnTransformer\n",
    "import numpy as np\n",
    "import pandas as pd\n",
    "import seaborn as sns\n",
    "import matplotlib.pyplot as plt\n",
    "from imblearn.over_sampling import SMOTE, ADASYN\n",
    "%matplotlib inline\n",
    "from sklearn.linear_model import RidgeCV\n",
    "from sklearn.feature_selection import SelectFromModel, SelectKBest, f_regression, mutual_info_regression, mutual_info_classif, chi2\n",
    "from time import time"
   ]
  },
  {
   "cell_type": "code",
   "execution_count": 214,
   "id": "f8b0ba1d-2b5d-4c54-966b-1014d01cabae",
   "metadata": {},
   "outputs": [],
   "source": [
    "df = pd.read_csv('cancer.csv')"
   ]
  },
  {
   "cell_type": "code",
   "execution_count": 215,
   "id": "74825600-87a1-4269-b9f7-1ca4849d7b43",
   "metadata": {},
   "outputs": [
    {
     "data": {
      "text/html": [
       "<div>\n",
       "<style scoped>\n",
       "    .dataframe tbody tr th:only-of-type {\n",
       "        vertical-align: middle;\n",
       "    }\n",
       "\n",
       "    .dataframe tbody tr th {\n",
       "        vertical-align: top;\n",
       "    }\n",
       "\n",
       "    .dataframe thead th {\n",
       "        text-align: right;\n",
       "    }\n",
       "</style>\n",
       "<table border=\"1\" class=\"dataframe\">\n",
       "  <thead>\n",
       "    <tr style=\"text-align: right;\">\n",
       "      <th></th>\n",
       "      <th>id</th>\n",
       "      <th>radius_mean</th>\n",
       "      <th>texture_mean</th>\n",
       "      <th>perimeter_mean</th>\n",
       "      <th>area_mean</th>\n",
       "      <th>smoothness_mean</th>\n",
       "      <th>compactness_mean</th>\n",
       "      <th>concavity_mean</th>\n",
       "      <th>concave points_mean</th>\n",
       "      <th>symmetry_mean</th>\n",
       "      <th>...</th>\n",
       "      <th>texture_worst</th>\n",
       "      <th>perimeter_worst</th>\n",
       "      <th>area_worst</th>\n",
       "      <th>smoothness_worst</th>\n",
       "      <th>compactness_worst</th>\n",
       "      <th>concavity_worst</th>\n",
       "      <th>concave points_worst</th>\n",
       "      <th>symmetry_worst</th>\n",
       "      <th>fractal_dimension_worst</th>\n",
       "      <th>diagnosis</th>\n",
       "    </tr>\n",
       "  </thead>\n",
       "  <tbody>\n",
       "    <tr>\n",
       "      <th>0</th>\n",
       "      <td>842302</td>\n",
       "      <td>17.990</td>\n",
       "      <td>10.38</td>\n",
       "      <td>122.80</td>\n",
       "      <td>1001.0</td>\n",
       "      <td>0.11840</td>\n",
       "      <td>0.27760</td>\n",
       "      <td>0.300100</td>\n",
       "      <td>0.147100</td>\n",
       "      <td>0.2419</td>\n",
       "      <td>...</td>\n",
       "      <td>17.33</td>\n",
       "      <td>184.60</td>\n",
       "      <td>2019.0</td>\n",
       "      <td>0.1622</td>\n",
       "      <td>0.66560</td>\n",
       "      <td>0.71190</td>\n",
       "      <td>0.26540</td>\n",
       "      <td>0.4601</td>\n",
       "      <td>0.11890</td>\n",
       "      <td>M</td>\n",
       "    </tr>\n",
       "    <tr>\n",
       "      <th>1</th>\n",
       "      <td>842517</td>\n",
       "      <td>20.570</td>\n",
       "      <td>17.77</td>\n",
       "      <td>132.90</td>\n",
       "      <td>1326.0</td>\n",
       "      <td>0.08474</td>\n",
       "      <td>0.07864</td>\n",
       "      <td>0.086900</td>\n",
       "      <td>0.070170</td>\n",
       "      <td>0.1812</td>\n",
       "      <td>...</td>\n",
       "      <td>23.41</td>\n",
       "      <td>158.80</td>\n",
       "      <td>1956.0</td>\n",
       "      <td>0.1238</td>\n",
       "      <td>0.18660</td>\n",
       "      <td>0.24160</td>\n",
       "      <td>0.18600</td>\n",
       "      <td>0.2750</td>\n",
       "      <td>0.08902</td>\n",
       "      <td>M</td>\n",
       "    </tr>\n",
       "    <tr>\n",
       "      <th>2</th>\n",
       "      <td>84300903</td>\n",
       "      <td>19.690</td>\n",
       "      <td>21.25</td>\n",
       "      <td>130.00</td>\n",
       "      <td>1203.0</td>\n",
       "      <td>0.10960</td>\n",
       "      <td>0.15990</td>\n",
       "      <td>0.197400</td>\n",
       "      <td>0.127900</td>\n",
       "      <td>0.2069</td>\n",
       "      <td>...</td>\n",
       "      <td>25.53</td>\n",
       "      <td>152.50</td>\n",
       "      <td>1709.0</td>\n",
       "      <td>0.1444</td>\n",
       "      <td>0.42450</td>\n",
       "      <td>0.45040</td>\n",
       "      <td>0.24300</td>\n",
       "      <td>0.3613</td>\n",
       "      <td>0.08758</td>\n",
       "      <td>M</td>\n",
       "    </tr>\n",
       "    <tr>\n",
       "      <th>3</th>\n",
       "      <td>84348301</td>\n",
       "      <td>11.420</td>\n",
       "      <td>20.38</td>\n",
       "      <td>77.58</td>\n",
       "      <td>386.1</td>\n",
       "      <td>0.14250</td>\n",
       "      <td>0.28390</td>\n",
       "      <td>0.241400</td>\n",
       "      <td>0.105200</td>\n",
       "      <td>0.2597</td>\n",
       "      <td>...</td>\n",
       "      <td>26.50</td>\n",
       "      <td>98.87</td>\n",
       "      <td>567.7</td>\n",
       "      <td>0.2098</td>\n",
       "      <td>0.86630</td>\n",
       "      <td>0.68690</td>\n",
       "      <td>0.25750</td>\n",
       "      <td>0.6638</td>\n",
       "      <td>0.17300</td>\n",
       "      <td>M</td>\n",
       "    </tr>\n",
       "    <tr>\n",
       "      <th>4</th>\n",
       "      <td>84358402</td>\n",
       "      <td>20.290</td>\n",
       "      <td>14.34</td>\n",
       "      <td>135.10</td>\n",
       "      <td>1297.0</td>\n",
       "      <td>0.10030</td>\n",
       "      <td>0.13280</td>\n",
       "      <td>0.198000</td>\n",
       "      <td>0.104300</td>\n",
       "      <td>0.1809</td>\n",
       "      <td>...</td>\n",
       "      <td>16.67</td>\n",
       "      <td>152.20</td>\n",
       "      <td>1575.0</td>\n",
       "      <td>0.1374</td>\n",
       "      <td>0.20500</td>\n",
       "      <td>0.40000</td>\n",
       "      <td>0.16250</td>\n",
       "      <td>0.2364</td>\n",
       "      <td>0.07678</td>\n",
       "      <td>M</td>\n",
       "    </tr>\n",
       "    <tr>\n",
       "      <th>...</th>\n",
       "      <td>...</td>\n",
       "      <td>...</td>\n",
       "      <td>...</td>\n",
       "      <td>...</td>\n",
       "      <td>...</td>\n",
       "      <td>...</td>\n",
       "      <td>...</td>\n",
       "      <td>...</td>\n",
       "      <td>...</td>\n",
       "      <td>...</td>\n",
       "      <td>...</td>\n",
       "      <td>...</td>\n",
       "      <td>...</td>\n",
       "      <td>...</td>\n",
       "      <td>...</td>\n",
       "      <td>...</td>\n",
       "      <td>...</td>\n",
       "      <td>...</td>\n",
       "      <td>...</td>\n",
       "      <td>...</td>\n",
       "      <td>...</td>\n",
       "    </tr>\n",
       "    <tr>\n",
       "      <th>95</th>\n",
       "      <td>86208</td>\n",
       "      <td>20.260</td>\n",
       "      <td>23.03</td>\n",
       "      <td>132.40</td>\n",
       "      <td>1264.0</td>\n",
       "      <td>0.09078</td>\n",
       "      <td>0.13130</td>\n",
       "      <td>0.146500</td>\n",
       "      <td>0.086830</td>\n",
       "      <td>0.2095</td>\n",
       "      <td>...</td>\n",
       "      <td>31.59</td>\n",
       "      <td>156.10</td>\n",
       "      <td>1750.0</td>\n",
       "      <td>0.1190</td>\n",
       "      <td>0.35390</td>\n",
       "      <td>0.40980</td>\n",
       "      <td>0.15730</td>\n",
       "      <td>0.3689</td>\n",
       "      <td>0.08368</td>\n",
       "      <td>M</td>\n",
       "    </tr>\n",
       "    <tr>\n",
       "      <th>96</th>\n",
       "      <td>86211</td>\n",
       "      <td>12.180</td>\n",
       "      <td>17.84</td>\n",
       "      <td>77.79</td>\n",
       "      <td>451.1</td>\n",
       "      <td>0.10450</td>\n",
       "      <td>0.07057</td>\n",
       "      <td>0.024900</td>\n",
       "      <td>0.029410</td>\n",
       "      <td>0.1900</td>\n",
       "      <td>...</td>\n",
       "      <td>20.92</td>\n",
       "      <td>82.14</td>\n",
       "      <td>495.2</td>\n",
       "      <td>0.1140</td>\n",
       "      <td>0.09358</td>\n",
       "      <td>0.04980</td>\n",
       "      <td>0.05882</td>\n",
       "      <td>0.2227</td>\n",
       "      <td>0.07376</td>\n",
       "      <td>B</td>\n",
       "    </tr>\n",
       "    <tr>\n",
       "      <th>97</th>\n",
       "      <td>862261</td>\n",
       "      <td>9.787</td>\n",
       "      <td>19.94</td>\n",
       "      <td>62.11</td>\n",
       "      <td>294.5</td>\n",
       "      <td>0.10240</td>\n",
       "      <td>0.05301</td>\n",
       "      <td>0.006829</td>\n",
       "      <td>0.007937</td>\n",
       "      <td>0.1350</td>\n",
       "      <td>...</td>\n",
       "      <td>26.29</td>\n",
       "      <td>68.81</td>\n",
       "      <td>366.1</td>\n",
       "      <td>0.1316</td>\n",
       "      <td>0.09473</td>\n",
       "      <td>0.02049</td>\n",
       "      <td>0.02381</td>\n",
       "      <td>0.1934</td>\n",
       "      <td>0.08988</td>\n",
       "      <td>B</td>\n",
       "    </tr>\n",
       "    <tr>\n",
       "      <th>98</th>\n",
       "      <td>862485</td>\n",
       "      <td>11.600</td>\n",
       "      <td>12.84</td>\n",
       "      <td>74.34</td>\n",
       "      <td>412.6</td>\n",
       "      <td>0.08983</td>\n",
       "      <td>0.07525</td>\n",
       "      <td>0.041960</td>\n",
       "      <td>0.033500</td>\n",
       "      <td>0.1620</td>\n",
       "      <td>...</td>\n",
       "      <td>17.16</td>\n",
       "      <td>82.96</td>\n",
       "      <td>512.5</td>\n",
       "      <td>0.1431</td>\n",
       "      <td>0.18510</td>\n",
       "      <td>0.19220</td>\n",
       "      <td>0.08449</td>\n",
       "      <td>0.2772</td>\n",
       "      <td>0.08756</td>\n",
       "      <td>B</td>\n",
       "    </tr>\n",
       "    <tr>\n",
       "      <th>99</th>\n",
       "      <td>862548</td>\n",
       "      <td>14.420</td>\n",
       "      <td>19.77</td>\n",
       "      <td>94.48</td>\n",
       "      <td>642.5</td>\n",
       "      <td>0.09752</td>\n",
       "      <td>0.11410</td>\n",
       "      <td>0.093880</td>\n",
       "      <td>0.058390</td>\n",
       "      <td>0.1879</td>\n",
       "      <td>...</td>\n",
       "      <td>30.86</td>\n",
       "      <td>109.50</td>\n",
       "      <td>826.4</td>\n",
       "      <td>0.1431</td>\n",
       "      <td>0.30260</td>\n",
       "      <td>0.31940</td>\n",
       "      <td>0.15650</td>\n",
       "      <td>0.2718</td>\n",
       "      <td>0.09353</td>\n",
       "      <td>M</td>\n",
       "    </tr>\n",
       "  </tbody>\n",
       "</table>\n",
       "<p>100 rows × 32 columns</p>\n",
       "</div>"
      ],
      "text/plain": [
       "          id  radius_mean  texture_mean  perimeter_mean  area_mean  \\\n",
       "0     842302       17.990         10.38          122.80     1001.0   \n",
       "1     842517       20.570         17.77          132.90     1326.0   \n",
       "2   84300903       19.690         21.25          130.00     1203.0   \n",
       "3   84348301       11.420         20.38           77.58      386.1   \n",
       "4   84358402       20.290         14.34          135.10     1297.0   \n",
       "..       ...          ...           ...             ...        ...   \n",
       "95     86208       20.260         23.03          132.40     1264.0   \n",
       "96     86211       12.180         17.84           77.79      451.1   \n",
       "97    862261        9.787         19.94           62.11      294.5   \n",
       "98    862485       11.600         12.84           74.34      412.6   \n",
       "99    862548       14.420         19.77           94.48      642.5   \n",
       "\n",
       "    smoothness_mean  compactness_mean  concavity_mean  concave points_mean  \\\n",
       "0           0.11840           0.27760        0.300100             0.147100   \n",
       "1           0.08474           0.07864        0.086900             0.070170   \n",
       "2           0.10960           0.15990        0.197400             0.127900   \n",
       "3           0.14250           0.28390        0.241400             0.105200   \n",
       "4           0.10030           0.13280        0.198000             0.104300   \n",
       "..              ...               ...             ...                  ...   \n",
       "95          0.09078           0.13130        0.146500             0.086830   \n",
       "96          0.10450           0.07057        0.024900             0.029410   \n",
       "97          0.10240           0.05301        0.006829             0.007937   \n",
       "98          0.08983           0.07525        0.041960             0.033500   \n",
       "99          0.09752           0.11410        0.093880             0.058390   \n",
       "\n",
       "    symmetry_mean  ...  texture_worst  perimeter_worst  area_worst  \\\n",
       "0          0.2419  ...          17.33           184.60      2019.0   \n",
       "1          0.1812  ...          23.41           158.80      1956.0   \n",
       "2          0.2069  ...          25.53           152.50      1709.0   \n",
       "3          0.2597  ...          26.50            98.87       567.7   \n",
       "4          0.1809  ...          16.67           152.20      1575.0   \n",
       "..            ...  ...            ...              ...         ...   \n",
       "95         0.2095  ...          31.59           156.10      1750.0   \n",
       "96         0.1900  ...          20.92            82.14       495.2   \n",
       "97         0.1350  ...          26.29            68.81       366.1   \n",
       "98         0.1620  ...          17.16            82.96       512.5   \n",
       "99         0.1879  ...          30.86           109.50       826.4   \n",
       "\n",
       "    smoothness_worst  compactness_worst  concavity_worst  \\\n",
       "0             0.1622            0.66560          0.71190   \n",
       "1             0.1238            0.18660          0.24160   \n",
       "2             0.1444            0.42450          0.45040   \n",
       "3             0.2098            0.86630          0.68690   \n",
       "4             0.1374            0.20500          0.40000   \n",
       "..               ...                ...              ...   \n",
       "95            0.1190            0.35390          0.40980   \n",
       "96            0.1140            0.09358          0.04980   \n",
       "97            0.1316            0.09473          0.02049   \n",
       "98            0.1431            0.18510          0.19220   \n",
       "99            0.1431            0.30260          0.31940   \n",
       "\n",
       "    concave points_worst  symmetry_worst  fractal_dimension_worst  diagnosis  \n",
       "0                0.26540          0.4601                  0.11890          M  \n",
       "1                0.18600          0.2750                  0.08902          M  \n",
       "2                0.24300          0.3613                  0.08758          M  \n",
       "3                0.25750          0.6638                  0.17300          M  \n",
       "4                0.16250          0.2364                  0.07678          M  \n",
       "..                   ...             ...                      ...        ...  \n",
       "95               0.15730          0.3689                  0.08368          M  \n",
       "96               0.05882          0.2227                  0.07376          B  \n",
       "97               0.02381          0.1934                  0.08988          B  \n",
       "98               0.08449          0.2772                  0.08756          B  \n",
       "99               0.15650          0.2718                  0.09353          M  \n",
       "\n",
       "[100 rows x 32 columns]"
      ]
     },
     "execution_count": 215,
     "metadata": {},
     "output_type": "execute_result"
    }
   ],
   "source": [
    "df.head(100)\n"
   ]
  },
  {
   "cell_type": "code",
   "execution_count": 216,
   "id": "ca59ac23-0598-4d3a-bc0f-21a07b37f49b",
   "metadata": {},
   "outputs": [],
   "source": [
    "\n",
    "# FEATURES FROM RIDGECV + SELECTFROMMODEL METHOD\n",
    "df = df[['compactness_mean','concave points_mean','smoothness_se','concavity_se','concave points_se','fractal_dimension_se','fractal_dimension_worst','diagnosis']]    \n",
    "# FEATURES FROM RIDGECV METHOD\n",
    "#df = df[['compactness_mean','smoothness_se','concave points_se','fractal_dimension_se','fractal_dimension_worst','concavity_se','diagnosis']]"
   ]
  },
  {
   "cell_type": "code",
   "execution_count": 217,
   "id": "99b8b7ad-4205-4ee0-9a34-74307a2b5144",
   "metadata": {},
   "outputs": [
    {
     "data": {
      "text/html": [
       "<div>\n",
       "<style scoped>\n",
       "    .dataframe tbody tr th:only-of-type {\n",
       "        vertical-align: middle;\n",
       "    }\n",
       "\n",
       "    .dataframe tbody tr th {\n",
       "        vertical-align: top;\n",
       "    }\n",
       "\n",
       "    .dataframe thead th {\n",
       "        text-align: right;\n",
       "    }\n",
       "</style>\n",
       "<table border=\"1\" class=\"dataframe\">\n",
       "  <thead>\n",
       "    <tr style=\"text-align: right;\">\n",
       "      <th></th>\n",
       "      <th>compactness_mean</th>\n",
       "      <th>concave points_mean</th>\n",
       "      <th>smoothness_se</th>\n",
       "      <th>concavity_se</th>\n",
       "      <th>concave points_se</th>\n",
       "      <th>fractal_dimension_se</th>\n",
       "      <th>fractal_dimension_worst</th>\n",
       "      <th>diagnosis</th>\n",
       "    </tr>\n",
       "  </thead>\n",
       "  <tbody>\n",
       "    <tr>\n",
       "      <th>0</th>\n",
       "      <td>0.27760</td>\n",
       "      <td>0.14710</td>\n",
       "      <td>0.006399</td>\n",
       "      <td>0.05373</td>\n",
       "      <td>0.01587</td>\n",
       "      <td>0.006193</td>\n",
       "      <td>0.11890</td>\n",
       "      <td>M</td>\n",
       "    </tr>\n",
       "    <tr>\n",
       "      <th>1</th>\n",
       "      <td>0.07864</td>\n",
       "      <td>0.07017</td>\n",
       "      <td>0.005225</td>\n",
       "      <td>0.01860</td>\n",
       "      <td>0.01340</td>\n",
       "      <td>0.003532</td>\n",
       "      <td>0.08902</td>\n",
       "      <td>M</td>\n",
       "    </tr>\n",
       "    <tr>\n",
       "      <th>2</th>\n",
       "      <td>0.15990</td>\n",
       "      <td>0.12790</td>\n",
       "      <td>0.006150</td>\n",
       "      <td>0.03832</td>\n",
       "      <td>0.02058</td>\n",
       "      <td>0.004571</td>\n",
       "      <td>0.08758</td>\n",
       "      <td>M</td>\n",
       "    </tr>\n",
       "    <tr>\n",
       "      <th>3</th>\n",
       "      <td>0.28390</td>\n",
       "      <td>0.10520</td>\n",
       "      <td>0.009110</td>\n",
       "      <td>0.05661</td>\n",
       "      <td>0.01867</td>\n",
       "      <td>0.009208</td>\n",
       "      <td>0.17300</td>\n",
       "      <td>M</td>\n",
       "    </tr>\n",
       "    <tr>\n",
       "      <th>4</th>\n",
       "      <td>0.13280</td>\n",
       "      <td>0.10430</td>\n",
       "      <td>0.011490</td>\n",
       "      <td>0.05688</td>\n",
       "      <td>0.01885</td>\n",
       "      <td>0.005115</td>\n",
       "      <td>0.07678</td>\n",
       "      <td>M</td>\n",
       "    </tr>\n",
       "    <tr>\n",
       "      <th>5</th>\n",
       "      <td>0.17000</td>\n",
       "      <td>0.08089</td>\n",
       "      <td>0.007510</td>\n",
       "      <td>0.03672</td>\n",
       "      <td>0.01137</td>\n",
       "      <td>0.005082</td>\n",
       "      <td>0.12440</td>\n",
       "      <td>M</td>\n",
       "    </tr>\n",
       "    <tr>\n",
       "      <th>6</th>\n",
       "      <td>0.10900</td>\n",
       "      <td>0.07400</td>\n",
       "      <td>0.004314</td>\n",
       "      <td>0.02254</td>\n",
       "      <td>0.01039</td>\n",
       "      <td>0.002179</td>\n",
       "      <td>0.08368</td>\n",
       "      <td>M</td>\n",
       "    </tr>\n",
       "    <tr>\n",
       "      <th>7</th>\n",
       "      <td>0.16450</td>\n",
       "      <td>0.05985</td>\n",
       "      <td>0.008805</td>\n",
       "      <td>0.02488</td>\n",
       "      <td>0.01448</td>\n",
       "      <td>0.005412</td>\n",
       "      <td>0.11510</td>\n",
       "      <td>M</td>\n",
       "    </tr>\n",
       "    <tr>\n",
       "      <th>8</th>\n",
       "      <td>0.19320</td>\n",
       "      <td>0.09353</td>\n",
       "      <td>0.005731</td>\n",
       "      <td>0.03553</td>\n",
       "      <td>0.01226</td>\n",
       "      <td>0.003749</td>\n",
       "      <td>0.10720</td>\n",
       "      <td>M</td>\n",
       "    </tr>\n",
       "    <tr>\n",
       "      <th>9</th>\n",
       "      <td>0.23960</td>\n",
       "      <td>0.08543</td>\n",
       "      <td>0.007149</td>\n",
       "      <td>0.07743</td>\n",
       "      <td>0.01432</td>\n",
       "      <td>0.010080</td>\n",
       "      <td>0.20750</td>\n",
       "      <td>M</td>\n",
       "    </tr>\n",
       "  </tbody>\n",
       "</table>\n",
       "</div>"
      ],
      "text/plain": [
       "   compactness_mean  concave points_mean  smoothness_se  concavity_se  \\\n",
       "0           0.27760              0.14710       0.006399       0.05373   \n",
       "1           0.07864              0.07017       0.005225       0.01860   \n",
       "2           0.15990              0.12790       0.006150       0.03832   \n",
       "3           0.28390              0.10520       0.009110       0.05661   \n",
       "4           0.13280              0.10430       0.011490       0.05688   \n",
       "5           0.17000              0.08089       0.007510       0.03672   \n",
       "6           0.10900              0.07400       0.004314       0.02254   \n",
       "7           0.16450              0.05985       0.008805       0.02488   \n",
       "8           0.19320              0.09353       0.005731       0.03553   \n",
       "9           0.23960              0.08543       0.007149       0.07743   \n",
       "\n",
       "   concave points_se  fractal_dimension_se  fractal_dimension_worst diagnosis  \n",
       "0            0.01587              0.006193                  0.11890         M  \n",
       "1            0.01340              0.003532                  0.08902         M  \n",
       "2            0.02058              0.004571                  0.08758         M  \n",
       "3            0.01867              0.009208                  0.17300         M  \n",
       "4            0.01885              0.005115                  0.07678         M  \n",
       "5            0.01137              0.005082                  0.12440         M  \n",
       "6            0.01039              0.002179                  0.08368         M  \n",
       "7            0.01448              0.005412                  0.11510         M  \n",
       "8            0.01226              0.003749                  0.10720         M  \n",
       "9            0.01432              0.010080                  0.20750         M  "
      ]
     },
     "execution_count": 217,
     "metadata": {},
     "output_type": "execute_result"
    }
   ],
   "source": [
    "df.head(10)"
   ]
  },
  {
   "cell_type": "code",
   "execution_count": 218,
   "id": "eaf0fd9f-c7f9-4469-a8ec-6e204a186a71",
   "metadata": {},
   "outputs": [
    {
     "data": {
      "text/plain": [
       "array(['compactness_mean', 'concave points_mean', 'smoothness_se',\n",
       "       'concavity_se', 'concave points_se', 'fractal_dimension_se',\n",
       "       'fractal_dimension_worst', 'diagnosis'], dtype=object)"
      ]
     },
     "execution_count": 218,
     "metadata": {},
     "output_type": "execute_result"
    }
   ],
   "source": [
    "np.array(df.columns)"
   ]
  },
  {
   "cell_type": "code",
   "execution_count": 219,
   "id": "a56aeae2-f3a6-49e8-98a3-794f6a157b71",
   "metadata": {},
   "outputs": [
    {
     "data": {
      "text/plain": [
       "<AxesSubplot:>"
      ]
     },
     "execution_count": 219,
     "metadata": {},
     "output_type": "execute_result"
    },
    {
     "data": {
      "image/png": "[encoded data removed]",
      "text/plain": [
       "<Figure size 432x288 with 2 Axes>"
      ]
     },
     "metadata": {
      "needs_background": "light"
     },
     "output_type": "display_data"
    }
   ],
   "source": [
    "sns.heatmap(df.corr())"
   ]
  },
  {
   "cell_type": "code",
   "execution_count": 220,
   "id": "8bcfbf7c-994b-4878-8ac3-9f3e0b40f661",
   "metadata": {},
   "outputs": [
    {
     "data": {
      "text/html": [
       "<div>\n",
       "<style scoped>\n",
       "    .dataframe tbody tr th:only-of-type {\n",
       "        vertical-align: middle;\n",
       "    }\n",
       "\n",
       "    .dataframe tbody tr th {\n",
       "        vertical-align: top;\n",
       "    }\n",
       "\n",
       "    .dataframe thead th {\n",
       "        text-align: right;\n",
       "    }\n",
       "</style>\n",
       "<table border=\"1\" class=\"dataframe\">\n",
       "  <thead>\n",
       "    <tr style=\"text-align: right;\">\n",
       "      <th></th>\n",
       "      <th>compactness_mean</th>\n",
       "      <th>concave points_mean</th>\n",
       "      <th>smoothness_se</th>\n",
       "      <th>concavity_se</th>\n",
       "      <th>concave points_se</th>\n",
       "      <th>fractal_dimension_se</th>\n",
       "      <th>fractal_dimension_worst</th>\n",
       "      <th>diagnosis</th>\n",
       "    </tr>\n",
       "  </thead>\n",
       "  <tbody>\n",
       "    <tr>\n",
       "      <th>0</th>\n",
       "      <td>0.27760</td>\n",
       "      <td>0.147100</td>\n",
       "      <td>0.006399</td>\n",
       "      <td>0.053730</td>\n",
       "      <td>0.015870</td>\n",
       "      <td>0.006193</td>\n",
       "      <td>0.11890</td>\n",
       "      <td>1</td>\n",
       "    </tr>\n",
       "    <tr>\n",
       "      <th>1</th>\n",
       "      <td>0.07864</td>\n",
       "      <td>0.070170</td>\n",
       "      <td>0.005225</td>\n",
       "      <td>0.018600</td>\n",
       "      <td>0.013400</td>\n",
       "      <td>0.003532</td>\n",
       "      <td>0.08902</td>\n",
       "      <td>1</td>\n",
       "    </tr>\n",
       "    <tr>\n",
       "      <th>2</th>\n",
       "      <td>0.15990</td>\n",
       "      <td>0.127900</td>\n",
       "      <td>0.006150</td>\n",
       "      <td>0.038320</td>\n",
       "      <td>0.020580</td>\n",
       "      <td>0.004571</td>\n",
       "      <td>0.08758</td>\n",
       "      <td>1</td>\n",
       "    </tr>\n",
       "    <tr>\n",
       "      <th>3</th>\n",
       "      <td>0.28390</td>\n",
       "      <td>0.105200</td>\n",
       "      <td>0.009110</td>\n",
       "      <td>0.056610</td>\n",
       "      <td>0.018670</td>\n",
       "      <td>0.009208</td>\n",
       "      <td>0.17300</td>\n",
       "      <td>1</td>\n",
       "    </tr>\n",
       "    <tr>\n",
       "      <th>4</th>\n",
       "      <td>0.13280</td>\n",
       "      <td>0.104300</td>\n",
       "      <td>0.011490</td>\n",
       "      <td>0.056880</td>\n",
       "      <td>0.018850</td>\n",
       "      <td>0.005115</td>\n",
       "      <td>0.07678</td>\n",
       "      <td>1</td>\n",
       "    </tr>\n",
       "    <tr>\n",
       "      <th>...</th>\n",
       "      <td>...</td>\n",
       "      <td>...</td>\n",
       "      <td>...</td>\n",
       "      <td>...</td>\n",
       "      <td>...</td>\n",
       "      <td>...</td>\n",
       "      <td>...</td>\n",
       "      <td>...</td>\n",
       "    </tr>\n",
       "    <tr>\n",
       "      <th>95</th>\n",
       "      <td>0.13130</td>\n",
       "      <td>0.086830</td>\n",
       "      <td>0.006016</td>\n",
       "      <td>0.042320</td>\n",
       "      <td>0.012690</td>\n",
       "      <td>0.004411</td>\n",
       "      <td>0.08368</td>\n",
       "      <td>1</td>\n",
       "    </tr>\n",
       "    <tr>\n",
       "      <th>96</th>\n",
       "      <td>0.07057</td>\n",
       "      <td>0.029410</td>\n",
       "      <td>0.005433</td>\n",
       "      <td>0.011310</td>\n",
       "      <td>0.015190</td>\n",
       "      <td>0.003408</td>\n",
       "      <td>0.07376</td>\n",
       "      <td>0</td>\n",
       "    </tr>\n",
       "    <tr>\n",
       "      <th>97</th>\n",
       "      <td>0.05301</td>\n",
       "      <td>0.007937</td>\n",
       "      <td>0.011130</td>\n",
       "      <td>0.005308</td>\n",
       "      <td>0.005250</td>\n",
       "      <td>0.005667</td>\n",
       "      <td>0.08988</td>\n",
       "      <td>0</td>\n",
       "    </tr>\n",
       "    <tr>\n",
       "      <th>98</th>\n",
       "      <td>0.07525</td>\n",
       "      <td>0.033500</td>\n",
       "      <td>0.006153</td>\n",
       "      <td>0.016930</td>\n",
       "      <td>0.006884</td>\n",
       "      <td>0.002551</td>\n",
       "      <td>0.08756</td>\n",
       "      <td>0</td>\n",
       "    </tr>\n",
       "    <tr>\n",
       "      <th>99</th>\n",
       "      <td>0.11410</td>\n",
       "      <td>0.058390</td>\n",
       "      <td>0.008005</td>\n",
       "      <td>0.033210</td>\n",
       "      <td>0.014240</td>\n",
       "      <td>0.004452</td>\n",
       "      <td>0.09353</td>\n",
       "      <td>1</td>\n",
       "    </tr>\n",
       "  </tbody>\n",
       "</table>\n",
       "<p>100 rows × 8 columns</p>\n",
       "</div>"
      ],
      "text/plain": [
       "    compactness_mean  concave points_mean  smoothness_se  concavity_se  \\\n",
       "0            0.27760             0.147100       0.006399      0.053730   \n",
       "1            0.07864             0.070170       0.005225      0.018600   \n",
       "2            0.15990             0.127900       0.006150      0.038320   \n",
       "3            0.28390             0.105200       0.009110      0.056610   \n",
       "4            0.13280             0.104300       0.011490      0.056880   \n",
       "..               ...                  ...            ...           ...   \n",
       "95           0.13130             0.086830       0.006016      0.042320   \n",
       "96           0.07057             0.029410       0.005433      0.011310   \n",
       "97           0.05301             0.007937       0.011130      0.005308   \n",
       "98           0.07525             0.033500       0.006153      0.016930   \n",
       "99           0.11410             0.058390       0.008005      0.033210   \n",
       "\n",
       "    concave points_se  fractal_dimension_se  fractal_dimension_worst  \\\n",
       "0            0.015870              0.006193                  0.11890   \n",
       "1            0.013400              0.003532                  0.08902   \n",
       "2            0.020580              0.004571                  0.08758   \n",
       "3            0.018670              0.009208                  0.17300   \n",
       "4            0.018850              0.005115                  0.07678   \n",
       "..                ...                   ...                      ...   \n",
       "95           0.012690              0.004411                  0.08368   \n",
       "96           0.015190              0.003408                  0.07376   \n",
       "97           0.005250              0.005667                  0.08988   \n",
       "98           0.006884              0.002551                  0.08756   \n",
       "99           0.014240              0.004452                  0.09353   \n",
       "\n",
       "    diagnosis  \n",
       "0           1  \n",
       "1           1  \n",
       "2           1  \n",
       "3           1  \n",
       "4           1  \n",
       "..        ...  \n",
       "95          1  \n",
       "96          0  \n",
       "97          0  \n",
       "98          0  \n",
       "99          1  \n",
       "\n",
       "[100 rows x 8 columns]"
      ]
     },
     "execution_count": 220,
     "metadata": {},
     "output_type": "execute_result"
    }
   ],
   "source": [
    "df['diagnosis'].replace(['M','B'], [1,0], inplace = True)\n",
    "df.head(100)"
   ]
  },
  {
   "cell_type": "code",
   "execution_count": 221,
   "id": "285ccfc6-03ed-463d-9eab-d62aa5f94842",
   "metadata": {},
   "outputs": [
    {
     "data": {
      "text/plain": [
       "0    357\n",
       "1    212\n",
       "Name: diagnosis, dtype: int64"
      ]
     },
     "execution_count": 221,
     "metadata": {},
     "output_type": "execute_result"
    }
   ],
   "source": [
    "df['diagnosis'].value_counts()"
   ]
  },
  {
   "cell_type": "code",
   "execution_count": 222,
   "id": "3ed42582-e889-4fe4-bbd5-2a4600c02a14",
   "metadata": {},
   "outputs": [
    {
     "name": "stdout",
     "output_type": "stream",
     "text": [
      "(569,)\n",
      "<class 'numpy.ndarray'>\n"
     ]
    }
   ],
   "source": [
    "#Y = df.iloc[:, 1].values\n",
    "Y =  df[\"diagnosis\"].values\n",
    "print(Y.shape)\n",
    "print(type(Y))\n",
    "#print(Y)"
   ]
  },
  {
   "cell_type": "code",
   "execution_count": 223,
   "id": "e1339774-3334-43c5-8732-b05281021eb6",
   "metadata": {},
   "outputs": [
    {
     "name": "stdout",
     "output_type": "stream",
     "text": [
      "(569, 7)\n",
      "<class 'numpy.ndarray'>\n",
      "[[0.2776   0.1471   0.006399 ... 0.01587  0.006193 0.1189  ]\n",
      " [0.07864  0.07017  0.005225 ... 0.0134   0.003532 0.08902 ]\n",
      " [0.1599   0.1279   0.00615  ... 0.02058  0.004571 0.08758 ]\n",
      " ...\n",
      " [0.1023   0.05302  0.005903 ... 0.01557  0.003892 0.0782  ]\n",
      " [0.277    0.152    0.006522 ... 0.01664  0.006185 0.124   ]\n",
      " [0.04362  0.       0.007189 ... 0.       0.002783 0.07039 ]]\n"
     ]
    }
   ],
   "source": [
    "df = df.drop([\"diagnosis\"], axis=1)\n",
    "\n",
    "X = df.values\n",
    "print(X.shape)\n",
    "print(type(X))\n",
    "print(X)"
   ]
  },
  {
   "cell_type": "code",
   "execution_count": 224,
   "id": "6ec4b0cd-044b-4fdb-af4d-5971247ed9a4",
   "metadata": {},
   "outputs": [
    {
     "name": "stdout",
     "output_type": "stream",
     "text": [
      "(569, 7)\n"
     ]
    }
   ],
   "source": [
    "# #CHECKING THE FEATURE IMPORTANCE USING THE SELECTKBEST ALSO KNOWN AS CHI2\n",
    "\n",
    "X_new = SelectKBest(chi2, k=7).fit_transform(X, Y)\n",
    "print(X_new.shape)\n",
    "\n",
    "# #CHECKING THE FEATURE IMPORTANCE USING THE RIDGECV + SELECTFROMMODEL\n",
    "# ridge = RidgeCV(alphas=np.logspace(-10, 10, num=5)).fit(X, Y)\n",
    "# importance = np.abs(ridge.coef_)\n",
    "# feature_names = np.array(df.columns)\n",
    "\n",
    "# threshold = np.sort(importance)[-8] + 0.01\n",
    "\n",
    "# tic = time()\n",
    "# sfm = SelectFromModel(ridge, threshold=threshold).fit(X, Y)\n",
    "# toc = time()\n",
    "# print(f\"Features selected by SelectFromModel: {feature_names[sfm.get_support()]}\")\n",
    "# print(f\"Done in {toc - tic:.3f}s\")\n"
   ]
  },
  {
   "cell_type": "code",
   "execution_count": 225,
   "id": "1a331e24-356f-4b19-a245-cd0d452e9789",
   "metadata": {},
   "outputs": [
    {
     "name": "stdout",
     "output_type": "stream",
     "text": [
      "[[0.2776   0.1471   0.006399 ... 0.01587  0.006193 0.1189  ]\n",
      " [0.07864  0.07017  0.005225 ... 0.0134   0.003532 0.08902 ]\n",
      " [0.1599   0.1279   0.00615  ... 0.02058  0.004571 0.08758 ]\n",
      " ...\n",
      " [0.1023   0.05302  0.005903 ... 0.01557  0.003892 0.0782  ]\n",
      " [0.277    0.152    0.006522 ... 0.01664  0.006185 0.124   ]\n",
      " [0.04362  0.       0.007189 ... 0.       0.002783 0.07039 ]]\n"
     ]
    }
   ],
   "source": [
    "print(X_new)"
   ]
  },
  {
   "cell_type": "code",
   "execution_count": 226,
   "id": "7b4cf482-2648-40b2-921e-b81be63c5108",
   "metadata": {},
   "outputs": [
    {
     "name": "stdout",
     "output_type": "stream",
     "text": [
      "[1 1 1 1 1 1 1 1 1 1 1 1 1 1 1 1 1 1 1 0 0 0 1 1 1 1 1 1 1 1 1 1 1 1 1 1 1\n",
      " 0 1 1 1 1 1 1 1 1 0 1 0 0 0 0 0 1 1 0 1 1 0 0 0 0 1 0 1 1 0 0 0 0 1 0 1 1\n",
      " 0 1 0 1 1 0 0 0 1 1 0 1 1 1 0 0 0 1 0 0 1 1 0 0 0 1 1 0 0 0 0 1 0 0 1 0 0\n",
      " 0 0 0 0 0 0 1 1 1 0 1 1 0 0 0 1 1 0 1 0 1 1 0 1 1 0 0 1 0 0 1 0 0 0 0 1 0\n",
      " 0 0 0 0 0 0 0 0 1 0 0 0 0 1 1 0 1 0 0 1 1 0 0 1 1 0 0 0 0 1 0 0 1 1 1 0 1\n",
      " 0 1 0 0 0 1 0 0 1 1 0 1 1 1 1 0 1 1 1 0 1 0 1 0 0 1 0 1 1 1 1 0 0 1 1 0 0\n",
      " 0 1 0 0 0 0 0 1 1 0 0 1 0 0 1 1 0 1 0 0 0 0 1 0 0 0 0 0 1 0 1 1 1 1 1 1 1\n",
      " 1 1 1 1 1 1 1 0 0 0 0 0 0 1 0 1 0 0 1 0 0 1 0 1 1 0 0 0 0 0 0 0 0 0 0 0 0\n",
      " 0 1 0 0 1 0 1 0 0 0 0 0 0 0 0 0 0 0 0 0 0 1 0 0 0 1 0 1 0 0 0 0 1 1 1 0 0\n",
      " 0 0 1 0 1 0 1 0 0 0 1 0 0 0 0 0 0 0 1 1 1 0 0 0 0 0 0 0 0 0 0 0 1 1 0 1 1\n",
      " 1 0 1 1 0 0 0 0 0 1 0 0 0 0 0 1 0 0 0 1 0 0 1 1 0 0 0 0 0 0 1 0 0 0 0 0 0\n",
      " 0 1 0 0 0 0 0 1 0 0 1 0 0 0 0 0 0 0 0 0 0 0 0 1 0 1 1 0 1 0 0 0 0 0 1 0 0\n",
      " 1 0 1 0 0 1 0 1 0 0 0 0 0 0 0 0 1 1 0 0 0 0 0 0 1 0 0 0 0 0 0 0 0 0 0 1 0\n",
      " 0 0 0 0 0 0 1 0 1 0 0 1 0 0 0 0 0 1 1 0 1 0 1 0 0 0 0 0 1 0 0 1 0 1 0 1 1\n",
      " 0 0 0 1 0 0 0 0 0 0 0 0 0 0 0 1 0 1 1 0 0 0 0 0 0 0 0 0 0 0 0 0 0 0 0 0 0\n",
      " 0 0 0 0 0 0 0 1 1 1 1 1 1 0]\n"
     ]
    }
   ],
   "source": [
    "Y_new = Y\n",
    "print(Y_new)"
   ]
  },
  {
   "cell_type": "code",
   "execution_count": 227,
   "id": "09758541-fe46-400e-82b1-46156e2d745d",
   "metadata": {},
   "outputs": [],
   "source": [
    "# IMP = pd.DataFrame(importance) \n",
    "# #print(IMP)\n",
    "# FEATNAMES =  pd.DataFrame(feature_names)\n",
    "# #print(FEATNAMES)\n",
    "# frames = [IMP, FEATNAMES]\n",
    "# result = pd.concat([IMP, FEATNAMES], axis=1)\n",
    "# (result)\n",
    "\n",
    "# CONSIDERING FEATURES FROM RIDGECV\n",
    "# - compactness_mean\n",
    "# - smoothness_se\n",
    "# - concave points_se\n",
    "# - fractal_dimension_se\n",
    "# - fractal_dimension_worst\n",
    "# - concavity_se"
   ]
  },
  {
   "cell_type": "code",
   "execution_count": 228,
   "id": "6bf1a93e-cdfd-4a84-864e-4c5d66e1e1bb",
   "metadata": {},
   "outputs": [],
   "source": [
    "from sklearn.model_selection import train_test_split\n",
    "X_train, X_test, Y_train, Y_test = train_test_split(X_new,Y_new, test_size=0.2, random_state=42)"
   ]
  },
  {
   "cell_type": "code",
   "execution_count": 229,
   "id": "b66722e6-7303-400a-97ea-bdcaa35e58d0",
   "metadata": {},
   "outputs": [
    {
     "data": {
      "text/plain": [
       "array([[0.1413  , 0.04375 , 0.009549, 0.3038  , 0.03322 , 0.009559,\n",
       "        0.1175  ],\n",
       "       [0.2832  , 0.1496  , 0.004253, 0.03872 , 0.01567 , 0.005295,\n",
       "        0.1284  ],\n",
       "       [0.08751 , 0.0218  , 0.008738, 0.04312 , 0.0156  , 0.005822,\n",
       "        0.0849  ],\n",
       "       [0.07234 , 0.01615 , 0.007189, 0.01081 , 0.006245, 0.002619,\n",
       "        0.08147 ],\n",
       "       [0.08061 , 0.0129  , 0.007514, 0.007665, 0.008193, 0.005953,\n",
       "        0.0802  ]])"
      ]
     },
     "execution_count": 229,
     "metadata": {},
     "output_type": "execute_result"
    }
   ],
   "source": [
    "X_train[0:5]"
   ]
  },
  {
   "cell_type": "code",
   "execution_count": 230,
   "id": "6c6754d1-f407-4457-a374-7de3b49d67d3",
   "metadata": {},
   "outputs": [
    {
     "data": {
      "text/plain": [
       "array([[0.1058  , 0.03821 , 0.006953, 0.02701 , 0.01037 , 0.003586,\n",
       "        0.0875  ],\n",
       "       [0.1029  , 0.07951 , 0.004444, 0.02269 , 0.0137  , 0.001698,\n",
       "        0.06589 ],\n",
       "       [0.1223  , 0.08087 , 0.00624 , 0.02813 , 0.01093 , 0.002461,\n",
       "        0.08019 ],\n",
       "       [0.1316  , 0.02799 , 0.01    , 0.04861 , 0.01167 , 0.006005,\n",
       "        0.09359 ],\n",
       "       [0.112   , 0.02594 , 0.01215 , 0.05553 , 0.01494 , 0.005512,\n",
       "        0.08134 ]])"
      ]
     },
     "execution_count": 230,
     "metadata": {},
     "output_type": "execute_result"
    }
   ],
   "source": [
    "X_test[0:5]"
   ]
  },
  {
   "cell_type": "code",
   "execution_count": 231,
   "id": "10b69305-fb1a-4ef1-b2b1-220254a32c9b",
   "metadata": {},
   "outputs": [
    {
     "data": {
      "text/plain": [
       "array([[ 4.16058881e-02, -2.64868656e-01, -1.18143232e-02,\n",
       "        -1.81053500e-01, -2.42388306e-01, -8.42132958e-02,\n",
       "         2.03729954e-01],\n",
       "       [-1.37241019e-02,  8.21448757e-01, -8.33501438e-01,\n",
       "        -3.15589998e-01,  2.87260309e-01, -7.62357471e-01,\n",
       "        -1.00838949e+00],\n",
       "       [ 3.56414451e-01,  8.57220952e-01, -2.45318872e-01,\n",
       "        -1.46173667e-01, -1.53318269e-01, -4.88298146e-01,\n",
       "        -2.06292866e-01],\n",
       "       [ 5.33852005e-01, -5.33686185e-01,  9.86065565e-01,\n",
       "         4.91628995e-01, -3.56185766e-02,  7.84658928e-01,\n",
       "         5.45322153e-01],\n",
       "       [ 1.59897591e-01, -5.87607509e-01,  1.69018167e+00,\n",
       "         7.07136535e-01,  4.84486820e-01,  6.07579967e-01,\n",
       "        -1.41788592e-01],\n",
       "       [ 3.30798322e+00,  2.72815939e+00, -1.52965039e-01,\n",
       "         1.19420849e+00,  7.54878005e-01,  8.49312504e-01,\n",
       "         2.25103952e+00],\n",
       "       [ 1.75111178e+00,  2.67818353e+00, -9.86114509e-01,\n",
       "         9.14451962e-02,  4.47904484e-01, -8.78412376e-03,\n",
       "         1.05010369e-01],\n",
       "       [ 2.30491026e-01,  8.21974818e-01, -4.46073835e-01,\n",
       "         3.88140195e-02,  2.61811727e-01, -2.81801966e-02,\n",
       "        -2.62383539e-01],\n",
       "       [ 9.51688826e-01,  5.67887017e-01, -6.38861651e-02,\n",
       "         2.17261737e-01,  3.07937282e-01,  2.81079409e-01,\n",
       "         9.94608444e-01],\n",
       "       [-9.62156446e-01, -9.17711226e-01, -1.20553674e+00,\n",
       "        -7.13780664e-01, -1.12322735e+00, -6.19760417e-01,\n",
       "        -3.86343926e-01],\n",
       "       [-9.83906856e-01, -7.25961736e-01, -3.99896918e-01,\n",
       "        -5.51963153e-01, -8.65719515e-01, -7.15663221e-01,\n",
       "        -8.96769051e-01],\n",
       "       [-2.25122822e-01,  4.59781337e-01, -2.83635888e-01,\n",
       "        -2.04410531e-01,  6.59445822e-01, -1.17617643e-01,\n",
       "        -6.49970090e-01],\n",
       "       [-9.55860275e-01, -7.59892716e-01, -1.09877309e+00,\n",
       "        -7.64730134e-01, -8.68741534e-01, -8.26292674e-01,\n",
       "        -1.29108648e+00],\n",
       "       [ 4.70890293e-01,  8.29339682e-01,  1.16946325e+00,\n",
       "         7.96204680e-01, -5.39838535e-03,  8.50030877e-01,\n",
       "        -2.43312710e-01],\n",
       "       [-7.73652895e-01, -5.73666874e-01, -1.08338078e+00,\n",
       "        -7.50279918e-01, -9.78806651e-01, -8.81607400e-01,\n",
       "        -4.45800040e-01],\n",
       "       [ 1.44011908e+00,  2.59401366e+00,  1.82063226e-01,\n",
       "        -3.57632654e-01,  1.03958402e+00,  2.35969188e+00,\n",
       "         4.57820703e-01],\n",
       "       [-1.01996675e+00, -6.01548144e-01, -9.20508091e-02,\n",
       "        -5.60683111e-01, -2.12168115e-01, -7.33263362e-01,\n",
       "        -1.25911480e+00],\n",
       "       [-5.45273591e-01, -9.76367106e-01,  1.93907852e+00,\n",
       "        -8.92228381e-01, -7.65356669e-01, -5.54029281e-01,\n",
       "        -9.22570761e-01],\n",
       "       [-5.33062835e-01, -1.26990954e+00,  1.04828978e+00,\n",
       "        -1.02221804e+00, -1.89177453e+00,  1.00408582e-01,\n",
       "         5.58223007e-01],\n",
       "       [ 1.34090669e+00,  2.20735831e+00, -7.89616993e-01,\n",
       "         2.25047414e-01,  3.68377665e-01, -4.06403616e-01,\n",
       "        -4.58700895e-01],\n",
       "       [ 4.65166501e-01,  6.33938457e-02, -7.44095068e-01,\n",
       "        -4.74417810e-01, -4.27526741e-01, -2.48002355e-01,\n",
       "         1.07313539e+00],\n",
       "       [-1.15226014e-01, -3.95068927e-01,  3.78888239e-01,\n",
       "        -4.48257935e-01, -6.96804551e-01, -7.26438817e-01,\n",
       "        -7.32423379e-01],\n",
       "       [ 2.00486657e+00,  2.83863235e+00, -5.81002129e-01,\n",
       "         4.47094922e-01,  1.56836326e-01,  7.45471520e-02,\n",
       "         9.44126838e-01],\n",
       "       [-1.23060229e+00, -1.13421192e+00, -4.14306736e-01,\n",
       "        -9.57628068e-01, -1.33079235e+00, -5.06257472e-01,\n",
       "        -1.82734783e-01],\n",
       "       [-8.91753804e-01, -9.24550029e-01, -2.83963384e-01,\n",
       "        -5.25180424e-01, -7.78717174e-01, -5.78094779e-01,\n",
       "        -9.20888040e-01],\n",
       "       [ 2.06186505e-02,  4.54520720e-01,  2.09955149e+00,\n",
       "        -6.60339777e-01, -5.81331609e-01,  8.41769587e-01,\n",
       "        -6.70723639e-01],\n",
       "       [-3.40934215e-01, -5.16589180e-01, -8.90158222e-01,\n",
       "        -1.41502260e-01, -5.44908326e-01, -4.33701793e-01,\n",
       "        -5.98366671e-01],\n",
       "       [-5.15891459e-01, -5.49731067e-01,  1.65743208e+00,\n",
       "         4.73877651e-01,  8.45538579e-01,  4.01406897e-01,\n",
       "        -5.82134893e-02],\n",
       "       [-4.59798296e-01, -8.01451591e-01, -4.52296256e-01,\n",
       "        -5.46046038e-01, -3.01715313e-01, -6.06111329e-01,\n",
       "        -6.44361022e-01],\n",
       "       [ 1.51452838e+00,  8.19607541e-01, -3.82867133e-01,\n",
       "         3.01969903e-01, -9.92400319e-02,  8.90259769e-01,\n",
       "         2.80633718e+00],\n",
       "       [-4.13626374e-01, -6.76248906e-01, -1.14429501e+00,\n",
       "         5.06482486e-02, -2.63065279e-01,  3.24181793e-01,\n",
       "        -1.99001079e-01],\n",
       "       [-9.77038306e-01, -7.53579976e-01, -4.78495925e-01,\n",
       "        -7.62425574e-01, -8.94031062e-01, -4.63514275e-01,\n",
       "        -2.74162580e-01],\n",
       "       [-3.87106137e-01, -7.52527852e-01,  1.99147786e+00,\n",
       "        -8.34707799e-01, -2.18530261e-01,  1.45306899e-01,\n",
       "        -2.11901933e-01],\n",
       "       [-5.92781065e-01, -7.75411536e-01, -1.03523889e+00,\n",
       "        -8.01789957e-01, -1.08425921e+00, -7.62716657e-01,\n",
       "        -3.39227761e-01],\n",
       "       [-3.54862109e-01, -7.66205457e-01,  2.97996761e-01,\n",
       "        -7.56446174e-01, -6.79149597e-01, -2.13556524e-02,\n",
       "         2.30092570e-01],\n",
       "       [-9.32774314e-01, -6.70725258e-01,  4.38492485e-01,\n",
       "        -6.02102913e-01, -5.12779491e-01, -5.15237136e-01,\n",
       "        -7.57664182e-01],\n",
       "       [-7.04585804e-01, -3.95858019e-01, -9.69412220e-01,\n",
       "        -6.79336829e-01, -6.84398367e-01, -2.79610770e-01,\n",
       "         3.65797482e-02],\n",
       "       [-1.14894286e+00, -5.43155295e-01,  3.42208702e-01,\n",
       "        -5.50717444e-01,  1.04435563e+00, -6.52087205e-01,\n",
       "        -9.52859724e-01],\n",
       "       [ 1.02659670e-01,  6.76518758e-01, -8.76075900e-01,\n",
       "        -3.20261405e-01, -2.39207234e-01, -5.89588748e-01,\n",
       "        -1.05364172e-02],\n",
       "       [-3.35019630e-01, -4.92127310e-01, -6.94643193e-01,\n",
       "        -6.73108287e-01, -5.22958924e-01, -3.33129563e-01,\n",
       "        -6.39873769e-01],\n",
       "       [-3.40361835e-01, -9.54009484e-01,  1.98438019e-01,\n",
       "        -1.25308052e-01, -5.21686495e-01, -1.32703478e-01,\n",
       "        -4.68236309e-01],\n",
       "       [-1.13127291e-01,  4.53731628e-01,  1.15636341e+00,\n",
       "         5.07511776e-01,  8.85301989e-01,  3.75904653e-01,\n",
       "         5.89633784e-01],\n",
       "       [ 2.51478264e-01, -8.70598008e-02, -3.61907398e-01,\n",
       "        -2.02853395e-01,  1.82284908e-01, -6.60348495e-01,\n",
       "        -5.38349650e-01],\n",
       "       [-6.60512605e-01, -9.03507561e-01, -4.82098379e-01,\n",
       "        -3.85349665e-01, -8.18639638e-01, -3.22713154e-01,\n",
       "        -2.20876441e-01],\n",
       "       [-6.01366753e-01,  6.77570881e-01,  2.35499826e+00,\n",
       "        -6.27639933e-01,  1.14614996e+00, -2.93978231e-01,\n",
       "        -1.32025363e+00],\n",
       "       [-7.22520352e-01, -7.70413950e-01,  6.95576736e-01,\n",
       "        -2.61401686e-01, -8.68264373e-01, -4.82551161e-01,\n",
       "         2.49724306e-01],\n",
       "       [ 3.60230313e-01, -6.33111846e-01,  2.77419296e+00,\n",
       "        -3.38012748e-01,  6.21272949e-01,  2.89304622e-02,\n",
       "         3.33860315e-01],\n",
       "       [-1.02855243e+00, -1.26990954e+00,  1.50678398e+00,\n",
       "        -1.02221804e+00, -1.89177453e+00, -1.78320168e-01,\n",
       "        -7.95244933e-01],\n",
       "       [-1.73417900e-01, -7.02551991e-01, -5.69212278e-01,\n",
       "        -4.49192216e-01, -1.04910836e+00, -4.12868974e-01,\n",
       "         3.15911300e-01],\n",
       "       [-1.49187181e-01, -3.78234952e-01, -1.87024609e-01,\n",
       "         1.44646442e+00,  9.29837008e-01, -4.47027771e-02,\n",
       "        -7.06621670e-01],\n",
       "       [-2.60801126e-01,  4.46892826e-01, -8.17454141e-01,\n",
       "        -3.84415383e-01, -3.21119857e-01, -8.06537414e-01,\n",
       "        -4.58139988e-01],\n",
       "       [ 1.62328043e+00,  2.00219424e+00, -2.42698905e-01,\n",
       "         5.95957067e-01, -4.99334041e-02,  2.65634388e-01,\n",
       "         7.82585699e-01],\n",
       "       [ 8.52476430e-01,  7.20738637e-02, -5.69212278e-01,\n",
       "        -2.35553239e-01, -5.70993123e-01,  1.35608863e-01,\n",
       "         1.33115248e+00],\n",
       "       [-1.15798394e-01,  4.70039540e-01,  9.99165399e-01,\n",
       "         4.61109141e-01,  2.64602576e+00,  6.13326952e-01,\n",
       "        -6.35947421e-01],\n",
       "       [ 4.95693392e-01, -4.80027891e-01,  1.04173986e+00,\n",
       "        -1.53647916e-01, -1.26279150e-01,  2.01235850e+00,\n",
       "         1.10678979e+00],\n",
       "       [-8.33371125e-01, -5.15010994e-01, -3.34070250e-01,\n",
       "        -5.35146090e-01, -5.45703594e-01, -7.71696321e-01,\n",
       "        -8.19924829e-01],\n",
       "       [ 1.42726214e-01, -2.26992213e-01,  1.14653854e+00,\n",
       "         2.24735987e-01,  5.64013640e-01,  1.35612470e+00,\n",
       "         7.37713161e-01],\n",
       "       [ 3.10765050e+00,  3.58300966e+00,  3.85438156e-01,\n",
       "         7.62259128e-01,  1.33701432e+00,  7.44430037e-01,\n",
       "         1.19092580e+00],\n",
       "       [ 4.17468233e-01,  1.60715260e-01, -5.31222758e-01,\n",
       "        -7.26768754e-02,  1.15482380e-01, -2.27528723e-01,\n",
       "         1.30310715e+00],\n",
       "       [-5.25431112e-01, -5.45259542e-01, -1.69339832e-01,\n",
       "        -6.22968527e-01, -4.84308890e-01, -3.60427740e-01,\n",
       "        -2.04610146e-01],\n",
       "       [-1.55674145e-01, -6.60993116e-01, -5.55457452e-01,\n",
       "        -3.77252560e-01, -5.90874828e-01, -3.49292957e-01,\n",
       "        -2.62944446e-01],\n",
       "       [ 1.07379639e+00,  2.09425504e+00, -2.74793499e-01,\n",
       "         1.71170529e-01,  1.38154934e+00,  2.69585440e-01,\n",
       "         2.08217208e-01],\n",
       "       [ 2.34306887e-01,  2.38358898e+00,  1.08431432e+00,\n",
       "         5.96579921e-01,  2.01140175e+00,  1.50335511e-01,\n",
       "        -7.13352550e-01],\n",
       "       [-9.80472581e-01, -8.13024948e-01, -5.34825213e-01,\n",
       "        -4.08395269e-01, -8.78602859e-01, -6.92675283e-01,\n",
       "        -1.07850283e+00],\n",
       "       [-1.17527230e+00, -1.04541270e+00,  2.92101836e-01,\n",
       "        -8.04094517e-01, -8.54426706e-01, -5.74143727e-01,\n",
       "        -6.61749131e-01],\n",
       "       [-5.40503765e-01, -7.34378724e-01, -5.96066939e-01,\n",
       "        -8.29539691e-02, -5.09439365e-01, -1.48507685e-01,\n",
       "         6.72087074e-01],\n",
       "       [ 1.36570978e+00,  1.22335990e+00,  5.59993450e-01,\n",
       "         8.30773086e-01,  3.19071037e-01,  7.77116011e-01,\n",
       "         2.31834833e+00],\n",
       "       [ 4.61300781e+00,  2.94910531e+00,  1.11051399e+00,\n",
       "         2.37545141e+00,  2.23248630e+00,  7.78193571e-01,\n",
       "         8.84670724e-01],\n",
       "       [-9.15793731e-01, -8.61422624e-01,  2.75727043e-01,\n",
       "        -5.37637507e-01, -8.99279832e-01, -6.58193376e-01,\n",
       "        -1.01568128e+00],\n",
       "       [ 1.69437244e-01, -4.93968526e-01, -4.13324249e-01,\n",
       "         3.45881121e-01, -3.31299290e-01,  2.69944626e-01,\n",
       "         4.37067154e-01],\n",
       "       [ 4.40363402e-01,  4.46629795e-01,  2.23054984e+00,\n",
       "         4.30589287e-01,  1.38473041e+00,  1.74401008e-01,\n",
       "         5.30738578e-01],\n",
       "       [ 4.88061669e-01,  4.67672263e-01, -3.98914431e-01,\n",
       "        -1.53025062e-01,  1.47293107e-01,  1.16212790e-01,\n",
       "         1.17409860e+00],\n",
       "       [-9.54143138e-01, -4.14796240e-01, -5.29912775e-01,\n",
       "        -6.69682589e-01, -4.35638477e-01, -8.53590850e-01,\n",
       "        -9.97171356e-01],\n",
       "       [ 9.91755370e-01,  1.06212198e+00, -1.18577974e-01,\n",
       "         6.50456806e-01,  9.91867926e-01,  2.74254865e-01,\n",
       "         6.35067229e-01],\n",
       "       [-1.04629619e+00, -1.26990954e+00,  1.85720455e+00,\n",
       "        -1.02221804e+00, -1.89177453e+00,  1.09607365e+00,\n",
       "         8.70087149e-01],\n",
       "       [ 2.26675165e-01,  1.15210923e-01, -8.31536463e-01,\n",
       "        -6.06774319e-01, -4.93534001e-01, -3.71203336e-01,\n",
       "         5.26812230e-01],\n",
       "       [-6.51926917e-01, -7.71203043e-01,  1.30973872e-01,\n",
       "        -7.94813990e-01, -2.94876007e-01, -3.21635594e-01,\n",
       "        -4.31777372e-01],\n",
       "       [ 4.63258570e-01,  1.09950306e-01, -2.08966831e-01,\n",
       "        -5.08769798e-02,  2.42725290e-01, -4.04248497e-01,\n",
       "        -2.41069083e-01],\n",
       "       [-9.96499199e-01, -1.06277274e+00, -1.44777643e-01,\n",
       "        -3.93758196e-01, -9.99165517e-01, -5.24575986e-01,\n",
       "        -9.07426279e-01],\n",
       "       [ 1.42726214e-01,  1.89911685e-01, -1.15958007e-01,\n",
       "        -3.67909748e-01, -4.03901858e-02, -3.57231138e-02,\n",
       "         4.64551583e-01],\n",
       "       [ 4.72798223e-01,  2.06482628e-01, -6.91695730e-01,\n",
       "        -3.31161353e-01, -4.23550400e-01, -5.19906561e-01,\n",
       "        -4.30655558e-01],\n",
       "       [-1.12642928e+00, -1.19255216e+00, -4.49348793e-01,\n",
       "        -9.91894390e-01, -1.42399778e+00, -6.43107542e-01,\n",
       "        -5.43397811e-01],\n",
       "       [-7.91661244e-02,  2.89368043e-02,  7.79415676e-01,\n",
       "         6.50456806e-01,  9.09160035e-01, -2.05259158e-01,\n",
       "        -8.64236461e-01],\n",
       "       [ 1.08715190e+00,  2.17579461e+00, -5.58732411e-01,\n",
       "         1.94194491e+00,  1.07298528e+00,  4.24394835e-01,\n",
       "        -3.01647010e-01],\n",
       "       [-6.36281885e-01, -2.20911807e-02, -5.06005577e-01,\n",
       "        -5.17083320e-01, -5.36319430e-01, -3.84134051e-01,\n",
       "        -2.46117244e-01],\n",
       "       [ 2.38072891e+00,  1.99693363e+00,  1.03518994e+00,\n",
       "         5.29623099e-01,  1.49129635e+00,  1.73829917e+00,\n",
       "         1.97619522e+00],\n",
       "       [ 2.59441715e+00,  9.77163020e-01,  5.23748655e-02,\n",
       "         1.38916184e+00,  3.85873565e-01,  2.24834405e+00,\n",
       "         6.93461072e+00],\n",
       "       [ 1.84650832e+00,  1.36565959e+00, -7.30560492e-02,\n",
       "         1.03039784e+00,  1.78395504e+00,  2.68655162e+00,\n",
       "         2.16129444e+00],\n",
       "       [ 7.02248484e-02, -4.86603663e-01, -6.37658913e-01,\n",
       "         3.18475538e-01,  7.59649615e-01,  1.27063831e+00,\n",
       "         5.39713085e-01],\n",
       "       [-2.91518810e-01, -3.75604644e-01, -3.53392506e-01,\n",
       "        -4.29883737e-01, -2.83742252e-01, -2.56263645e-01,\n",
       "         9.32313279e-02],\n",
       "       [-6.09952442e-01, -7.79883061e-01, -3.34070250e-01,\n",
       "        -3.97183894e-01, -7.74104619e-01, -4.35856912e-01,\n",
       "        -2.59579005e-01],\n",
       "       [ 1.94240343e-01, -4.40836295e-01, -8.43653810e-01,\n",
       "        -5.52274580e-01, -7.19708275e-01, -7.30389869e-01,\n",
       "         1.56052882e-01],\n",
       "       [ 6.25432678e-01,  3.45625948e-01, -9.38627609e-01,\n",
       "        -4.00609592e-01, -2.94876007e-01, -2.09569396e-01,\n",
       "         9.09877010e-02],\n",
       "       [-1.29814304e+00, -1.26990954e+00,  1.98110524e-01,\n",
       "        -1.02221804e+00, -1.89177453e+00, -7.35418481e-01,\n",
       "        -1.39204969e+00],\n",
       "       [-6.83598566e-01, -1.07045324e+00,  1.93252860e+00,\n",
       "        -9.19540536e-01, -1.10175511e+00, -6.67173039e-01,\n",
       "        -1.04597024e+00],\n",
       "       [-3.73559829e-01, -8.02240683e-01,  2.24692463e+00,\n",
       "        -1.74513531e-01, -2.64655816e-01,  2.93650937e-01,\n",
       "         4.55542558e-02],\n",
       "       [-4.18444842e-03,  1.30542552e+00, -3.99569422e-01,\n",
       "         2.07918924e-01,  7.77145515e-01, -4.75008244e-01,\n",
       "        -9.81465967e-01],\n",
       "       [ 1.39623668e+00,  1.14366155e+00,  6.00930432e-01,\n",
       "        -5.30569693e-02,  1.61607935e-01,  2.46238315e-01,\n",
       "         1.38724315e+00],\n",
       "       [-1.00145982e+00, -8.00136436e-01,  6.64792125e-01,\n",
       "        -6.49751256e-01, -5.82444985e-01, -7.90733207e-01,\n",
       "        -9.05743559e-01],\n",
       "       [ 1.38910353e-01,  2.38835423e-01,  3.66770892e-01,\n",
       "         5.16854589e-01,  8.78939843e-01, -2.92577562e-02,\n",
       "        -2.48360871e-01],\n",
       "       [-2.98196567e-01,  9.49575477e-02, -7.73897191e-01,\n",
       "        -4.13689529e-01, -3.38297650e-01, -4.99432928e-01,\n",
       "         1.36982053e-01],\n",
       "       [-1.19435161e+00, -1.26990954e+00, -3.10818044e-01,\n",
       "        -1.02221804e+00, -1.89177453e+00, -2.15675567e-01,\n",
       "        -1.32253178e-01],\n",
       "       [ 2.11743448e+00,  1.57082365e+00,  3.11424091e-01,\n",
       "         4.28409298e-01,  1.40063578e+00,  1.16144560e+00,\n",
       "         1.51064264e+00],\n",
       "       [ 5.10956837e-01,  1.05107469e+00,  7.92295261e-02,\n",
       "        -2.40847499e-01,  4.62219311e-01, -1.74009929e-01,\n",
       "         6.51859914e-02],\n",
       "       [-7.17368939e-01, -1.05527636e+00,  4.17205254e-01,\n",
       "        -6.24525663e-01, -9.50654157e-01, -3.02957895e-01,\n",
       "        -4.26729211e-01],\n",
       "       [-1.23811703e-01, -1.02052559e-01, -1.31677808e-01,\n",
       "        -4.81269205e-01,  2.01371344e-01, -5.39661820e-01,\n",
       "        -3.53250429e-01],\n",
       "       [-4.04351315e-02, -5.27636475e-01,  1.42491002e+00,\n",
       "        -4.90084173e-02, -8.65157409e-02,  5.48673376e-01,\n",
       "         3.89950988e-01],\n",
       "       [ 4.55626847e-01,  1.36828989e+00, -4.04809356e-01,\n",
       "         2.16016028e-01,  1.53742191e+00, -3.31692817e-01,\n",
       "        -6.22485660e-01],\n",
       "       [-2.89875474e-02,  1.85177129e-01, -4.20201662e-01,\n",
       "        -5.24341152e-02,  4.82896284e-01, -4.64232648e-01,\n",
       "        -3.94757527e-01],\n",
       "       [-6.99052805e-01, -5.35790432e-01, -1.13119518e+00,\n",
       "        -4.61649299e-01, -9.14548982e-01, -9.34407820e-01,\n",
       "        -1.00446314e+00],\n",
       "       [-3.69743968e-01,  4.76089250e-01,  1.25461217e+00,\n",
       "         6.77767380e-02,  9.85505781e-01, -6.72560837e-01,\n",
       "        -1.12169265e+00],\n",
       "       [-4.87272498e-01, -4.99492174e-01, -1.07115619e-01,\n",
       "        -3.66664040e-01, -2.91694934e-01, -3.72280896e-01,\n",
       "        -3.24083279e-01],\n",
       "       [ 5.35520501e-03, -1.10469546e-01, -2.23376649e-01,\n",
       "         1.76776216e-01, -2.83742252e-01, -8.31357362e-02,\n",
       "        -3.31375067e-01],\n",
       "       [ 2.03779996e-01,  1.00425520e+00, -7.98459381e-01,\n",
       "        -3.54829811e-01, -4.15756772e-01, -5.46486364e-01,\n",
       "        -9.46724267e-02]])"
      ]
     },
     "execution_count": 231,
     "metadata": {},
     "output_type": "execute_result"
    }
   ],
   "source": [
    "scaler = StandardScaler()\n",
    "scaler.fit_transform(X_train)\n",
    "scaler.transform(X_test)"
   ]
  },
  {
   "cell_type": "code",
   "execution_count": 232,
   "id": "007bc2c3-3ada-4943-9cf1-8502555d8867",
   "metadata": {},
   "outputs": [
    {
     "data": {
      "text/plain": [
       "array([[0.1413  , 0.04375 , 0.009549, 0.3038  , 0.03322 , 0.009559,\n",
       "        0.1175  ],\n",
       "       [0.2832  , 0.1496  , 0.004253, 0.03872 , 0.01567 , 0.005295,\n",
       "        0.1284  ],\n",
       "       [0.08751 , 0.0218  , 0.008738, 0.04312 , 0.0156  , 0.005822,\n",
       "        0.0849  ],\n",
       "       [0.07234 , 0.01615 , 0.007189, 0.01081 , 0.006245, 0.002619,\n",
       "        0.08147 ],\n",
       "       [0.08061 , 0.0129  , 0.007514, 0.007665, 0.008193, 0.005953,\n",
       "        0.0802  ]])"
      ]
     },
     "execution_count": 232,
     "metadata": {},
     "output_type": "execute_result"
    }
   ],
   "source": [
    "X_train[0:5]"
   ]
  },
  {
   "cell_type": "code",
   "execution_count": 233,
   "id": "c898c228-2a18-4324-95eb-a1def040b63c",
   "metadata": {},
   "outputs": [
    {
     "data": {
      "text/plain": [
       "array([[0.1058  , 0.03821 , 0.006953, 0.02701 , 0.01037 , 0.003586,\n",
       "        0.0875  ],\n",
       "       [0.1029  , 0.07951 , 0.004444, 0.02269 , 0.0137  , 0.001698,\n",
       "        0.06589 ],\n",
       "       [0.1223  , 0.08087 , 0.00624 , 0.02813 , 0.01093 , 0.002461,\n",
       "        0.08019 ],\n",
       "       [0.1316  , 0.02799 , 0.01    , 0.04861 , 0.01167 , 0.006005,\n",
       "        0.09359 ],\n",
       "       [0.112   , 0.02594 , 0.01215 , 0.05553 , 0.01494 , 0.005512,\n",
       "        0.08134 ]])"
      ]
     },
     "execution_count": 233,
     "metadata": {},
     "output_type": "execute_result"
    }
   ],
   "source": [
    "X_test[0:5]"
   ]
  },
  {
   "cell_type": "code",
   "execution_count": 234,
   "id": "0b907109-85de-46ed-9a4f-588369676c59",
   "metadata": {},
   "outputs": [
    {
     "name": "stdout",
     "output_type": "stream",
     "text": [
      "(455, 7)\n",
      "(114, 7)\n",
      "(455,)\n",
      "(114,)\n",
      "<class 'numpy.ndarray'>\n",
      "<class 'numpy.ndarray'>\n"
     ]
    }
   ],
   "source": [
    "print(X_train.shape)\n",
    "print(X_test.shape)\n",
    "print(Y_train.shape)\n",
    "print(Y_test.shape)\n",
    "print(type(X_train))\n",
    "print(type(Y_train))"
   ]
  },
  {
   "cell_type": "code",
   "execution_count": 235,
   "id": "4c9a9f37-bd58-45e9-bb64-cdf1e159443c",
   "metadata": {},
   "outputs": [
    {
     "data": {
      "text/plain": [
       "array([[0.1413  , 0.04375 , 0.009549, ..., 0.03322 , 0.009559, 0.1175  ],\n",
       "       [0.2832  , 0.1496  , 0.004253, ..., 0.01567 , 0.005295, 0.1284  ],\n",
       "       [0.08751 , 0.0218  , 0.008738, ..., 0.0156  , 0.005822, 0.0849  ],\n",
       "       ...,\n",
       "       [0.02675 , 0.00625 , 0.003492, ..., 0.003608, 0.001381, 0.0612  ],\n",
       "       [0.1133  , 0.06463 , 0.005314, ..., 0.009567, 0.002846, 0.1055  ],\n",
       "       [0.04038 , 0.0177  , 0.00508 , ..., 0.006797, 0.001532, 0.06878 ]])"
      ]
     },
     "execution_count": 235,
     "metadata": {},
     "output_type": "execute_result"
    }
   ],
   "source": [
    "X_train\n",
    "#type(X_train)"
   ]
  },
  {
   "cell_type": "code",
   "execution_count": 236,
   "id": "28e40b54-ad6d-4995-ace6-b1b114fecfec",
   "metadata": {},
   "outputs": [
    {
     "data": {
      "text/plain": [
       "array([0, 1, 0, 0, 0, 1, 0, 0, 0, 1, 0, 1, 1, 0, 0, 1, 1, 1, 0, 0, 0, 1,\n",
       "       0, 0, 0, 1, 0, 1, 0, 0, 1, 0, 1, 1, 1, 0, 1, 0, 0, 0, 0, 1, 1, 0,\n",
       "       0, 0, 0, 0, 0, 0, 1, 0, 0, 0, 0, 1, 0, 0, 0, 0, 0, 0, 1, 0, 0, 0,\n",
       "       0, 0, 0, 1, 1, 1, 0, 0, 1, 0, 1, 0, 0, 0, 0, 1, 0, 0, 1, 0, 0, 0,\n",
       "       1, 0, 1, 1, 0, 0, 0, 1, 0, 0, 0, 0, 1, 0, 0, 0, 0, 0, 1, 0, 1, 1,\n",
       "       0, 0, 1, 0, 0, 0, 0, 0, 0, 0, 1, 1, 1, 0, 0, 1, 0, 0, 1, 0, 1, 0,\n",
       "       1, 0, 1, 0, 0, 1, 0, 0, 0, 1, 0, 1, 0, 1, 0, 1, 0, 0, 1, 0, 0, 0,\n",
       "       0, 1, 0, 0, 0, 1, 0, 0, 1, 0, 0, 1, 0, 0, 0, 0, 0, 0, 0, 1, 0, 0,\n",
       "       0, 1, 0, 1, 0, 0, 0, 1, 0, 1, 1, 0, 0, 1, 0, 1, 1, 1, 0, 0, 0, 1,\n",
       "       0, 0, 1, 0, 1, 0, 0, 0, 1, 0, 1, 0, 0, 1, 1, 0, 0, 1, 0, 1, 1, 0,\n",
       "       1, 1, 0, 0, 1, 1, 1, 0, 0, 0, 0, 1, 0, 1, 1, 1, 1, 0, 0, 0, 0, 0,\n",
       "       0, 0, 0, 1, 1, 0, 0, 1, 0, 0, 0, 0, 0, 1, 0, 0, 1, 1, 0, 1, 0, 1,\n",
       "       0, 0, 0, 0, 0, 0, 1, 0, 0, 1, 0, 0, 0, 0, 0, 0, 1, 0, 0, 1, 0, 1,\n",
       "       1, 1, 0, 1, 0, 0, 1, 1, 1, 0, 0, 0, 0, 0, 0, 0, 1, 0, 0, 0, 1, 0,\n",
       "       0, 1, 1, 0, 1, 0, 1, 1, 0, 0, 1, 0, 1, 1, 0, 1, 1, 0, 0, 1, 0, 1,\n",
       "       0, 0, 1, 0, 0, 1, 1, 1, 0, 0, 0, 1, 1, 0, 1, 1, 0, 0, 0, 1, 0, 1,\n",
       "       1, 1, 1, 0, 0, 1, 0, 0, 1, 1, 1, 1, 1, 1, 0, 0, 0, 0, 0, 0, 0, 1,\n",
       "       1, 1, 1, 0, 0, 0, 0, 1, 0, 1, 0, 0, 0, 0, 0, 1, 1, 1, 0, 0, 1, 0,\n",
       "       0, 1, 1, 1, 1, 0, 0, 1, 1, 0, 0, 0, 1, 1, 1, 0, 0, 1, 0, 0, 0, 0,\n",
       "       1, 0, 0, 0, 0, 0, 0, 0, 0, 0, 1, 0, 0, 0, 0, 0, 0, 1, 0, 0, 1, 0,\n",
       "       0, 1, 1, 1, 0, 1, 1, 0, 1, 0, 0, 0, 0, 1, 0])"
      ]
     },
     "execution_count": 236,
     "metadata": {},
     "output_type": "execute_result"
    }
   ],
   "source": [
    "Y_train\n",
    "#type(Y_train)"
   ]
  },
  {
   "cell_type": "code",
   "execution_count": 237,
   "id": "1b8d5162-3173-4341-abf0-30be2ea93cae",
   "metadata": {},
   "outputs": [
    {
     "data": {
      "text/plain": [
       "array([0.1058  , 0.03821 , 0.006953, 0.02701 , 0.01037 , 0.003586,\n",
       "       0.0875  ])"
      ]
     },
     "execution_count": 237,
     "metadata": {},
     "output_type": "execute_result"
    }
   ],
   "source": [
    "X_test[0]"
   ]
  },
  {
   "cell_type": "code",
   "execution_count": 238,
   "id": "8e62d7f5-4866-4529-9c53-50a3941b959e",
   "metadata": {},
   "outputs": [],
   "source": [
    "knnCls = RadiusNeighborsClassifier(radius=10.0,p=2, weights='uniform')"
   ]
  },
  {
   "cell_type": "code",
   "execution_count": 239,
   "id": "d27652bf-ec87-4f7d-bd27-05c0d884f9b3",
   "metadata": {},
   "outputs": [
    {
     "data": {
      "text/html": [
       "<style>#sk-container-id-14 {color: black;background-color: white;}#sk-container-id-14 pre{padding: 0;}#sk-container-id-14 div.sk-toggleable {background-color: white;}#sk-container-id-14 label.sk-toggleable__label {cursor: pointer;display: block;width: 100%;margin-bottom: 0;padding: 0.3em;box-sizing: border-box;text-align: center;}#sk-container-id-14 label.sk-toggleable__label-arrow:before {content: \"▸\";float: left;margin-right: 0.25em;color: #696969;}#sk-container-id-14 label.sk-toggleable__label-arrow:hover:before {color: black;}#sk-container-id-14 div.sk-estimator:hover label.sk-toggleable__label-arrow:before {color: black;}#sk-container-id-14 div.sk-toggleable__content {max-height: 0;max-width: 0;overflow: hidden;text-align: left;background-color: #f0f8ff;}#sk-container-id-14 div.sk-toggleable__content pre {margin: 0.2em;color: black;border-radius: 0.25em;background-color: #f0f8ff;}#sk-container-id-14 input.sk-toggleable__control:checked~div.sk-toggleable__content {max-height: 200px;max-width: 100%;overflow: auto;}#sk-container-id-14 input.sk-toggleable__control:checked~label.sk-toggleable__label-arrow:before {content: \"▾\";}#sk-container-id-14 div.sk-estimator input.sk-toggleable__control:checked~label.sk-toggleable__label {background-color: #d4ebff;}#sk-container-id-14 div.sk-label input.sk-toggleable__control:checked~label.sk-toggleable__label {background-color: #d4ebff;}#sk-container-id-14 input.sk-hidden--visually {border: 0;clip: rect(1px 1px 1px 1px);clip: rect(1px, 1px, 1px, 1px);height: 1px;margin: -1px;overflow: hidden;padding: 0;position: absolute;width: 1px;}#sk-container-id-14 div.sk-estimator {font-family: monospace;background-color: #f0f8ff;border: 1px dotted black;border-radius: 0.25em;box-sizing: border-box;margin-bottom: 0.5em;}#sk-container-id-14 div.sk-estimator:hover {background-color: #d4ebff;}#sk-container-id-14 div.sk-parallel-item::after {content: \"\";width: 100%;border-bottom: 1px solid gray;flex-grow: 1;}#sk-container-id-14 div.sk-label:hover label.sk-toggleable__label {background-color: #d4ebff;}#sk-container-id-14 div.sk-serial::before {content: \"\";position: absolute;border-left: 1px solid gray;box-sizing: border-box;top: 0;bottom: 0;left: 50%;z-index: 0;}#sk-container-id-14 div.sk-serial {display: flex;flex-direction: column;align-items: center;background-color: white;padding-right: 0.2em;padding-left: 0.2em;position: relative;}#sk-container-id-14 div.sk-item {position: relative;z-index: 1;}#sk-container-id-14 div.sk-parallel {display: flex;align-items: stretch;justify-content: center;background-color: white;position: relative;}#sk-container-id-14 div.sk-item::before, #sk-container-id-14 div.sk-parallel-item::before {content: \"\";position: absolute;border-left: 1px solid gray;box-sizing: border-box;top: 0;bottom: 0;left: 50%;z-index: -1;}#sk-container-id-14 div.sk-parallel-item {display: flex;flex-direction: column;z-index: 1;position: relative;background-color: white;}#sk-container-id-14 div.sk-parallel-item:first-child::after {align-self: flex-end;width: 50%;}#sk-container-id-14 div.sk-parallel-item:last-child::after {align-self: flex-start;width: 50%;}#sk-container-id-14 div.sk-parallel-item:only-child::after {width: 0;}#sk-container-id-14 div.sk-dashed-wrapped {border: 1px dashed gray;margin: 0 0.4em 0.5em 0.4em;box-sizing: border-box;padding-bottom: 0.4em;background-color: white;}#sk-container-id-14 div.sk-label label {font-family: monospace;font-weight: bold;display: inline-block;line-height: 1.2em;}#sk-container-id-14 div.sk-label-container {text-align: center;}#sk-container-id-14 div.sk-container {/* jupyter's `normalize.less` sets `[hidden] { display: none; }` but bootstrap.min.css set `[hidden] { display: none !important; }` so we also need the `!important` here to be able to override the default hidden behavior on the sphinx rendered scikit-learn.org. See: https://github.com/scikit-learn/scikit-learn/issues/21755 */display: inline-block !important;position: relative;}#sk-container-id-14 div.sk-text-repr-fallback {display: none;}</style><div id=\"sk-container-id-14\" class=\"sk-top-container\"><div class=\"sk-text-repr-fallback\"><pre>RadiusNeighborsClassifier(radius=10.0)</pre><b>In a Jupyter environment, please rerun this cell to show the HTML representation or trust the notebook. <br />On GitHub, the HTML representation is unable to render, please try loading this page with nbviewer.org.</b></div><div class=\"sk-container\" hidden><div class=\"sk-item\"><div class=\"sk-estimator sk-toggleable\"><input class=\"sk-toggleable__control sk-hidden--visually\" id=\"sk-estimator-id-14\" type=\"checkbox\" checked><label for=\"sk-estimator-id-14\" class=\"sk-toggleable__label sk-toggleable__label-arrow\">RadiusNeighborsClassifier</label><div class=\"sk-toggleable__content\"><pre>RadiusNeighborsClassifier(radius=10.0)</pre></div></div></div></div></div>"
      ],
      "text/plain": [
       "RadiusNeighborsClassifier(radius=10.0)"
      ]
     },
     "execution_count": 239,
     "metadata": {},
     "output_type": "execute_result"
    }
   ],
   "source": [
    "knnCls.fit(X_train,Y_train)"
   ]
  },
  {
   "cell_type": "code",
   "execution_count": 240,
   "id": "66fbe988-27bf-4be7-a192-4facf300bba5",
   "metadata": {},
   "outputs": [
    {
     "name": "stdout",
     "output_type": "stream",
     "text": [
      "[0 0 0 0 0 0 0 0 0 0 0 0 0 0 0 0 0 0 0 0 0 0 0 0 0 0 0 0 0 0 0 0 0 0 0 0 0\n",
      " 0 0 0 0 0 0 0 0 0 0 0 0 0 0 0 0 0 0 0 0 0 0 0 0 0 0 0 0 0 0 0 0 0 0 0 0 0\n",
      " 0 0 0 0 0 0 0 0 0 0 0 0 0 0 0 0 0 0 0 0 0 0 0 0 0 0 0 0 0 0 0 0 0 0 0 0 0\n",
      " 0 0 0]\n"
     ]
    }
   ],
   "source": [
    "Y_Pred_TEST = knnCls.predict(X_test)\n",
    "print(Y_Pred_TEST)\n",
    "Y_Pred_TRAIN = knnCls.predict(X_train)\n",
    "#sc =  knnCls.score(Y_test,Y_Pred_TEST)\n",
    "#print(sc)\n",
    "#sc2 = knnCls.score(Y_train,Y_Pred_TRAIN)\n",
    "#print(sc2)\n",
    "\n",
    "# print(\" ACCURACY SCORE FOR TEST DATA : \",lrRegression.score(Y_test, Y_Pred_TEST))\n",
    "# print(\" ACCURACY SCORE FOR TRAIN DATA : \",lrRegression.score(Y_train, Y_Pred_TRAIN))\n",
    "#Y_Pred = lrRegression.predict(X_test[0].reshape(1,-1))\n",
    "\n",
    "# for one value prediction\n",
    "#print(lrRegression.predict(X_test[0].reshape(1,-1)))\n",
    "\n",
    "# for multiple value prediction\n",
    "#print(lrRegression.predict(X_test[0:10]))"
   ]
  },
  {
   "cell_type": "code",
   "execution_count": 241,
   "id": "a5a68696-0cec-46a6-84a8-ef988c05d8c1",
   "metadata": {},
   "outputs": [
    {
     "name": "stdout",
     "output_type": "stream",
     "text": [
      "TEST DATA  Confusion Matrix:\n",
      "[[71  0]\n",
      " [43  0]]\n"
     ]
    }
   ],
   "source": [
    "result = confusion_matrix(Y_test, Y_Pred_TEST)\n",
    "print(\"TEST DATA  Confusion Matrix:\")\n",
    "print(result)"
   ]
  },
  {
   "cell_type": "code",
   "execution_count": 242,
   "id": "1372f700-a8d7-4a4c-9861-75c71862b9c0",
   "metadata": {},
   "outputs": [
    {
     "name": "stdout",
     "output_type": "stream",
     "text": [
      "TRAIN DATA  Confusion Matrix:\n",
      "[[286   0]\n",
      " [169   0]]\n"
     ]
    }
   ],
   "source": [
    "result = confusion_matrix(Y_train, Y_Pred_TRAIN)\n",
    "print(\"TRAIN DATA  Confusion Matrix:\")\n",
    "print(result)"
   ]
  },
  {
   "cell_type": "code",
   "execution_count": 206,
   "id": "83b8fa5c-51fa-4743-8ec7-0f66c78a519c",
   "metadata": {},
   "outputs": [
    {
     "name": "stdout",
     "output_type": "stream",
     "text": [
      "(114,)\n",
      "(455,)\n"
     ]
    }
   ],
   "source": [
    "print(Y_Pred_TEST.shape)\n",
    "print(Y_Pred_TRAIN.shape)"
   ]
  },
  {
   "cell_type": "code",
   "execution_count": 207,
   "id": "247722ee-af7c-49ac-817c-957718d5343c",
   "metadata": {},
   "outputs": [
    {
     "name": "stdout",
     "output_type": "stream",
     "text": [
      "TEST DATA PRedict :  0.6228070175438597\n",
      "TRAIN DATA PRedict :  0.6285714285714286\n"
     ]
    }
   ],
   "source": [
    "acc =  accuracy_score(Y_test, Y_Pred_TEST)\n",
    "acc2 = accuracy_score(Y_train, Y_Pred_TRAIN)\n",
    "print(\"TEST DATA PRedict : \", acc)\n",
    "print(\"TRAIN DATA PRedict : \",acc2)"
   ]
  },
  {
   "cell_type": "markdown",
   "id": "58dd7db1-6f9f-4f3f-8cb2-4401658251c9",
   "metadata": {},
   "source": [
    "----------------------------------------------------------------------------------------------------------\n",
    "FROM STEP SELECTKBEST WHEN k = 7 AND K VALUE FOR NEOGHBORS NEAIGBOR = 4\n",
    "TEST DATA PRedict :  0.9473684210526315\n",
    "TRAIN DATA PRedict :  0.9274725274725275\n",
    "----------------------------------------------------------------------------------------------------------"
   ]
  },
  {
   "cell_type": "code",
   "execution_count": 72,
   "id": "5d8f34b8-33ba-48ef-b972-b261645a7e03",
   "metadata": {},
   "outputs": [
    {
     "data": {
      "text/plain": [
       "array([[71,  0],\n",
       "       [ 6, 37]])"
      ]
     },
     "execution_count": 72,
     "metadata": {},
     "output_type": "execute_result"
    }
   ],
   "source": [
    "from sklearn.metrics import confusion_matrix, r2_score, accuracy_score\n",
    "cm = confusion_matrix(Y_test, Y_Pred_TEST)\n",
    "cm"
   ]
  },
  {
   "cell_type": "code",
   "execution_count": 73,
   "id": "55fb3c9a-29aa-43ae-832e-ec604ceb20e0",
   "metadata": {},
   "outputs": [
    {
     "name": "stdout",
     "output_type": "stream",
     "text": [
      "              precision    recall  f1-score   support\n",
      "\n",
      "           0       0.92      1.00      0.96        71\n",
      "           1       1.00      0.86      0.92        43\n",
      "\n",
      "    accuracy                           0.95       114\n",
      "   macro avg       0.96      0.93      0.94       114\n",
      "weighted avg       0.95      0.95      0.95       114\n",
      "\n"
     ]
    }
   ],
   "source": [
    "classreport=  classification_report(Y_test, Y_Pred_TEST)\n",
    "print(classreport)"
   ]
  },
  {
   "cell_type": "markdown",
   "id": "a9cbf769-2228-4941-939d-7b817ba663cf",
   "metadata": {},
   "source": [
    "PREVIOUS REPORT FROM SELECTKBEST \n",
    " precision    recall  f1-score   support\n",
    "\n",
    "           0       0.97      1.00      0.99        71\n",
    "           1       1.00      0.95      0.98        43\n",
    "\n",
    "    accuracy                           0.98       114\n",
    "   macro avg       0.99      0.98      0.98       114\n",
    "weighted avg       0.98      0.98      0.98       114\n"
   ]
  },
  {
   "cell_type": "code",
   "execution_count": 74,
   "id": "70aef318-e88c-42a7-802d-16e0b80f4ccc",
   "metadata": {},
   "outputs": [
    {
     "name": "stdout",
     "output_type": "stream",
     "text": [
      "              precision    recall  f1-score   support\n",
      "\n",
      "           0       0.91      0.98      0.94       286\n",
      "           1       0.97      0.83      0.90       169\n",
      "\n",
      "    accuracy                           0.93       455\n",
      "   macro avg       0.94      0.91      0.92       455\n",
      "weighted avg       0.93      0.93      0.93       455\n",
      "\n"
     ]
    }
   ],
   "source": [
    "classreport2 =  classification_report(Y_train, Y_Pred_TRAIN)\n",
    "print(classreport2)"
   ]
  },
  {
   "cell_type": "markdown",
   "id": "2f61d2b9-3563-4089-abbd-a7443d53349b",
   "metadata": {},
   "source": [
    "PREVIOUS REPORT FROM SELECTKBEST\n",
    " precision    recall  f1-score   support\n",
    "\n",
    "           0       0.94      0.96      0.95       286\n",
    "           1       0.93      0.89      0.91       169\n",
    "\n",
    "    accuracy                           0.93       455\n",
    "   macro avg       0.93      0.93      0.93       455\n",
    "weighted avg       0.93      0.93      0.93       455"
   ]
  },
  {
   "cell_type": "code",
   "execution_count": 76,
   "id": "b43d7299-dfc4-4d2c-9b28-62ddd3450dba",
   "metadata": {},
   "outputs": [
    {
     "data": {
      "text/plain": [
       "0.9473684210526315"
      ]
     },
     "execution_count": 76,
     "metadata": {},
     "output_type": "execute_result"
    }
   ],
   "source": [
    "# SCORE ACCURACY FOR TEST DATA\n",
    "score = knnCls.score(X_test, Y_test)\n",
    "score"
   ]
  },
  {
   "cell_type": "code",
   "execution_count": 77,
   "id": "ec63b094-78e5-49d2-862a-e8130d41fe5a",
   "metadata": {},
   "outputs": [
    {
     "data": {
      "text/plain": [
       "0.9274725274725275"
      ]
     },
     "execution_count": 77,
     "metadata": {},
     "output_type": "execute_result"
    }
   ],
   "source": [
    "# SCORE ACCURACY FOR TRAIN DATA\n",
    "score = knnCls.score(X_train, Y_train)\n",
    "score"
   ]
  },
  {
   "cell_type": "markdown",
   "id": "7a27b810-b21e-42b1-9a1e-d55623266097",
   "metadata": {},
   "source": [
    "TEST DATA prev 1 accuracy \n",
    "0.9824561403508771"
   ]
  },
  {
   "cell_type": "code",
   "execution_count": 78,
   "id": "99c0275f-26b6-45bf-b4c4-5e12934646d3",
   "metadata": {},
   "outputs": [
    {
     "data": {
      "text/plain": [
       "Text(0.5, 1.0, 'Accuracy Score: 0.9274725274725275')"
      ]
     },
     "execution_count": 78,
     "metadata": {},
     "output_type": "execute_result"
    },
    {
     "data": {
      "image/png": "[encoded data removed]",
      "text/plain": [
       "<Figure size 720x720 with 2 Axes>"
      ]
     },
     "metadata": {
      "needs_background": "light"
     },
     "output_type": "display_data"
    }
   ],
   "source": [
    "plt.figure(figsize=(10,10))\n",
    "sns.heatmap(cm, annot=True, cmap='Blues_r', square=True)\n",
    "plt.ylabel(\"Actual Values\")\n",
    "plt.xlabel(\"Predicted Values\")\n",
    "all_title = 'Accuracy Score: {0}'.format(score)\n",
    "plt.title(all_title,  size=20)"
   ]
  },
  {
   "cell_type": "code",
   "execution_count": 82,
   "id": "0d93b593-b933-477a-95fb-2052d34d1c9b",
   "metadata": {},
   "outputs": [
    {
     "data": {
      "text/plain": [
       "array([0, 1])"
      ]
     },
     "execution_count": 82,
     "metadata": {},
     "output_type": "execute_result"
    }
   ],
   "source": [
    "knnCls.classes_"
   ]
  },
  {
   "cell_type": "code",
   "execution_count": 87,
   "id": "a5c52cc1-7a3c-4d11-b82f-04e6a61f6db3",
   "metadata": {},
   "outputs": [
    {
     "data": {
      "text/plain": [
       "0.05263157894736842"
      ]
     },
     "execution_count": 87,
     "metadata": {},
     "output_type": "execute_result"
    }
   ],
   "source": [
    "# MSE FOR TEST PREDICTION\n",
    "mse = mean_squared_error(Y_test, Y_Pred_TEST) \n",
    "mse"
   ]
  },
  {
   "cell_type": "code",
   "execution_count": 88,
   "id": "ce290367-600f-4319-8d84-6e7487ac735b",
   "metadata": {},
   "outputs": [
    {
     "data": {
      "text/plain": [
       "0.07252747252747253"
      ]
     },
     "execution_count": 88,
     "metadata": {},
     "output_type": "execute_result"
    }
   ],
   "source": [
    "# MSE FOR TRAIN PREDICTION\n",
    "mse = mean_squared_error(Y_train, Y_Pred_TRAIN) \n",
    "mse"
   ]
  },
  {
   "cell_type": "code",
   "execution_count": null,
   "id": "d146455d-2938-41fa-b542-87f5bab3856d",
   "metadata": {},
   "outputs": [],
   "source": []
  }
 ],
 "metadata": {
  "kernelspec": {
   "display_name": "Python 3",
   "language": "python",
   "name": "python3"
  },
  "language_info": {
   "codemirror_mode": {
    "name": "ipython",
    "version": 3
   },
   "file_extension": ".py",
   "mimetype": "text/x-python",
   "name": "python",
   "nbconvert_exporter": "python",
   "pygments_lexer": "ipython3",
   "version": "3.8.10"
  }
 },
 "nbformat": 4,
 "nbformat_minor": 5
}
